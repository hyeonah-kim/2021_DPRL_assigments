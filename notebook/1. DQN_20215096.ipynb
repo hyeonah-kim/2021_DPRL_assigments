{
 "cells": [
  {
   "cell_type": "markdown",
   "metadata": {},
   "source": [
    "# 1. Environment Description"
   ]
  },
  {
   "attachments": {
    "image.png": {
     "image/png": "[encoded data removed]"
    }
   },
   "cell_type": "markdown",
   "metadata": {},
   "source": [
    " A pole is attached by an un-actuated joint to a cart, which moves along a frictionless track. The pendulum starts upright, and the goal is to prevent it from falling over by increasing and reducing the cart's velocity.\n",
    "\n",
    "![image.png](attachment:image.png)"
   ]
  },
  {
   "cell_type": "code",
   "execution_count": 1,
   "metadata": {
    "collapsed": true
   },
   "outputs": [],
   "source": [
    "import gym\n",
    "import random\n",
    "\n",
    "import numpy as np\n",
    "import torch\n",
    "import torch.nn as nn\n",
    "import torch.nn.functional as F\n",
    "\n",
    "from collections import namedtuple"
   ]
  },
  {
   "cell_type": "code",
   "execution_count": 2,
   "metadata": {},
   "outputs": [
    {
     "name": "stderr",
     "output_type": "stream",
     "text": [
      "[2021-05-30 22:24:34,911] Making new env: CartPole-v0\n"
     ]
    }
   ],
   "source": [
    "env_name = \"CartPole-v0\"\n",
    "env = gym.make(env_name)"
   ]
  },
  {
   "cell_type": "markdown",
   "metadata": {},
   "source": [
    "### 1-1. State\n",
    "\n",
    "Cartpole environment consists of 4-dimensional state with following components:\n",
    "\n",
    "| Num |      Observation      |     Min    |    Max    |\n",
    "|:---:|:---------------------:|:----------:|:---------:|\n",
    "|  0  |     Cart Position     |    -4.8    |    4.8    |\n",
    "|  1  |     Cart Velocity     |    -Inf    |    Inf    |\n",
    "|  2  |       Pole Angle      | -0.418 rad | 0.418 rad |\n",
    "|  3  | Pole Angular Velocity |    -Inf    |    Inf    |\n",
    "\n",
    "you can check the state space of environment using following code:"
   ]
  },
  {
   "cell_type": "code",
   "execution_count": 3,
   "metadata": {},
   "outputs": [
    {
     "data": {
      "text/plain": [
       "Box(4,)"
      ]
     },
     "execution_count": 3,
     "metadata": {},
     "output_type": "execute_result"
    }
   ],
   "source": [
    "env.observation_space"
   ]
  },
  {
   "cell_type": "markdown",
   "metadata": {},
   "source": [
    "### 1-2. Action\n",
    "The action space of agent is 2-dimension, such as: \n",
    "\n",
    "| Num |         Action         |\n",
    "|:---:|:----------------------:|\n",
    "|  0  |  Push cart to the left |\n",
    "|  1  | Push cart to the right |\n",
    "\n",
    "you can check the action space of environment using following code:"
   ]
  },
  {
   "cell_type": "code",
   "execution_count": 4,
   "metadata": {},
   "outputs": [
    {
     "data": {
      "text/plain": [
       "Discrete(2)"
      ]
     },
     "execution_count": 4,
     "metadata": {},
     "output_type": "execute_result"
    }
   ],
   "source": [
    "env.action_space"
   ]
  },
  {
   "cell_type": "markdown",
   "metadata": {},
   "source": [
    "### 1-3. Rewards\n",
    "Reward is 1 for every step taken, including the termination step"
   ]
  },
  {
   "cell_type": "markdown",
   "metadata": {},
   "source": [
    "# 2. Replay Memory\n",
    "\n",
    "An RL agent needs a space to save the transitions $(s_t, a_t, r_t, s_{t+1}, terminal)$. A replay memory stores the transitions that the agent observes, allowing to reuse this data later."
   ]
  },
  {
   "cell_type": "code",
   "execution_count": 5,
   "metadata": {
    "collapsed": true
   },
   "outputs": [],
   "source": [
    "Transition = namedtuple('Transition', ('state', 'action', 'reward', 'next_state', 'done'))\n",
    "\n",
    "\n",
    "class ReplayMemory():\n",
    "\n",
    "    def __init__(self, capacity):\n",
    "        self.capacity = capacity # A maximum number of sample that replay memory can store\n",
    "        self.memory = []\n",
    "        self.position = 0\n",
    "\n",
    "    def push(self, *args):\n",
    "        \"\"\"Save Transitions\"\"\"\n",
    "        if len(self.memory) < self.capacity:\n",
    "            self.memory.append(None)\n",
    "        self.memory[self.position] = Transition(*args)\n",
    "        self.position = (self.position + 1) % self.capacity\n",
    "\n",
    "    def sample(self, batch_size):\n",
    "        return random.sample(self.memory, batch_size)\n",
    "\n",
    "    def __len__(self):\n",
    "        return len(self.memory)"
   ]
  },
  {
   "cell_type": "markdown",
   "metadata": {},
   "source": [
    "# 3. Q-Network\n",
    "$Q(s_t,a_t|\\theta_Q)$, evaluates state-action function.\n",
    "- input :  state\n",
    "- output : state-action value\n",
    "\n",
    "The sample Q-network is composed of two linear layers, with $ReLU$ activation function"
   ]
  },
  {
   "cell_type": "code",
   "execution_count": 6,
   "metadata": {
    "collapsed": true
   },
   "outputs": [],
   "source": [
    "class QNetwork(nn.Module):\n",
    "\n",
    "    def __init__(self, state_dim, action_dim, hidden_dim=32):\n",
    "        super(QNetwork, self).__init__()\n",
    "        self.lin1 = nn.Linear(state_dim, hidden_dim)\n",
    "        self.lin2 = nn.Linear(hidden_dim, action_dim)\n",
    "\n",
    "    def forward(self, x):\n",
    "        x = F.relu(self.lin1(x))\n",
    "        x = self.lin2(x)\n",
    "        return x"
   ]
  },
  {
   "cell_type": "markdown",
   "metadata": {},
   "source": [
    "To initialize the Q network, we need to check the state dimension and action dimension from the environment. We can create Q network using following code:"
   ]
  },
  {
   "cell_type": "code",
   "execution_count": 7,
   "metadata": {
    "collapsed": true
   },
   "outputs": [],
   "source": [
    "state_dim = env.observation_space.shape[0]\n",
    "action_dim = env.action_space.n\n",
    "QNet = QNetwork(state_dim, action_dim)"
   ]
  },
  {
   "cell_type": "code",
   "execution_count": 13,
   "metadata": {},
   "outputs": [
    {
     "data": {
      "text/plain": [
       "tensor([ 0.0746, -0.3688], grad_fn=<AddBackward0>)"
      ]
     },
     "execution_count": 13,
     "metadata": {},
     "output_type": "execute_result"
    }
   ],
   "source": [
    "state = env.reset()\n",
    "QNet(torch.Tensor(env.reset()))"
   ]
  },
  {
   "cell_type": "code",
   "execution_count": 27,
   "metadata": {},
   "outputs": [
    {
     "name": "stdout",
     "output_type": "stream",
     "text": [
      "tensor([ 0.0602, -0.3696], grad_fn=<AddBackward0>)\n",
      "0\n"
     ]
    }
   ],
   "source": [
    "q = QNet(torch.Tensor(state))\n",
    "print(q)\n",
    "q.argmax()\n",
    "print(np.random.randint(0, len(q)))"
   ]
  },
  {
   "cell_type": "markdown",
   "metadata": {},
   "source": [
    "# Task: Complete the `DQNAgent()` class [60 pt]\n",
    "\n",
    "\n",
    "* Task 1 [10pt]: Create your own replay memory of `maximum capacity = 1000`\n",
    "* Task 2 [10pt]: Complete the `get_action()` function of the agent. \n",
    "* Task 3 [20pt]: Compute the optimum target value of $Q(s_t, a_t)$, when $max_aQ(s_{t+1}, a), r_t, terminal$ are provided.\n",
    "* Task 4 [20pt]: Compute the loss of the DQN agent"
   ]
  },
  {
   "cell_type": "code",
   "execution_count": 40,
   "metadata": {
    "collapsed": true
   },
   "outputs": [],
   "source": [
    "class DQNAgent(nn.Module):\n",
    "    def __init__(self, state_dim, action_dim):\n",
    "        super(DQNAgent, self).__init__()\n",
    "        self.action_dim = action_dim # required when executing random action \n",
    "        \n",
    "        self.QNet = QNetwork(state_dim, action_dim)\n",
    "        \n",
    "        self.optimizer = torch.optim.Adam(self.QNet.parameters(), lr=1e-3)\n",
    "        \n",
    "        ##########################################\n",
    "        # Task 1: Create a replay memory with maximum capacity=1000\n",
    "        self.memory = ReplayMemory(1000)\n",
    "        ##########################################\n",
    "        \n",
    "        # Hyperparameters\n",
    "        self.gamma = 0.999\n",
    "        self.epsilon = 0.99\n",
    "        self.epsilon_min = 0.01\n",
    "        self.epsilon_decay = 0.9995\n",
    "        \n",
    "        self.batch_size = 50\n",
    "        \n",
    "        self.num_fit = 0\n",
    "        \n",
    "\n",
    "    def get_action(self, state):\n",
    "        ##########################################\n",
    "        # Task 2: Complete the get_action() function of the agent.\n",
    "        q = self.QNet(state)\n",
    "        if np.random.rand() > self.epsilon:\n",
    "            # exploitation\n",
    "            action = q.argmax().item()\n",
    "        else:\n",
    "            # exploration\n",
    "            action = np.random.randint(0, len(q))\n",
    "        ##########################################\n",
    "            \n",
    "        self.epsilon = max(self.epsilon_min, self.epsilon * self.epsilon_decay)\n",
    "\n",
    "        return action\n",
    "\n",
    "    def push(self, state, action, reward, next_state, terminated):\n",
    "        self.memory.push(state, action, reward, next_state, terminated)\n",
    "\n",
    "    def fit(self):\n",
    "        if len(self.memory) < self.batch_size:\n",
    "            return 0\n",
    "        \n",
    "        self.num_fit += 1\n",
    "        \n",
    "        sample = self.memory.sample(self.batch_size)\n",
    "        \n",
    "        state = [i[0] for i in sample]\n",
    "        action = [i[1] for i in sample]\n",
    "        reward = [i[2] for i in sample]\n",
    "        next_state = [i[3] for i in sample]\n",
    "        terminal = [i[4] for i in sample]\n",
    "\n",
    "        state = np.stack(state)\n",
    "        state_batch = torch.Tensor(state) # shape = [batch size X state_dim]\n",
    "        \n",
    "        action = np.array(action)\n",
    "        action_batch = torch.tensor(action, dtype=int).unsqueeze(-1) # shape = [batch size X 1]\n",
    "\n",
    "        next_state = np.stack(next_state)\n",
    "        next_state_batch = torch.Tensor(next_state)\n",
    "\n",
    "        reward = np.array(reward)\n",
    "        reward_batch = torch.tensor(reward, dtype=torch.float32).reshape(-1, 1)\n",
    "\n",
    "        terminal = np.array(terminal).astype(int)\n",
    "        terminal_batch = torch.tensor(terminal).reshape(-1, 1)\n",
    "        \n",
    "        qs = self.QNet(state_batch).gather(1, action_batch)\n",
    "        \n",
    "        with torch.no_grad():\n",
    "            q_max, _ = self.QNet(next_state_batch).max(dim=-1, keepdims=True)\n",
    "            ##########################################\n",
    "            # Task 3: Compute the optimum target value of DQN:\n",
    "            q_target = reward_batch + self.gamma * q_max * (1-terminal_batch)\n",
    "            ##########################################\n",
    "        \n",
    "        ##########################################\n",
    "        # Task 4: compute the loss of the DQN:\n",
    "        loss = F.mse_loss(qs, q_target)\n",
    "        ##########################################        \n",
    "        \n",
    "        # optimize\n",
    "        self.optimizer.zero_grad()\n",
    "        loss.backward()\n",
    "        self.optimizer.step()\n",
    "        \n",
    "        return loss.item()"
   ]
  },
  {
   "cell_type": "markdown",
   "metadata": {},
   "source": [
    "### Full training code; you can check your agent using following training code."
   ]
  },
  {
   "cell_type": "code",
   "execution_count": 53,
   "metadata": {},
   "outputs": [
    {
     "name": "stderr",
     "output_type": "stream",
     "text": [
      "[2021-05-30 22:55:07,449] Making new env: CartPole-v0\n"
     ]
    },
    {
     "name": "stdout",
     "output_type": "stream",
     "text": [
      "episode : 0, reward : 15.0\n",
      "episode : 1, reward : 16.0\n",
      "episode : 2, reward : 33.0\n",
      "episode : 3, reward : 10.0\n",
      "episode : 4, reward : 23.0\n",
      "episode : 5, reward : 16.0\n",
      "episode : 6, reward : 16.0\n",
      "episode : 7, reward : 17.0\n",
      "episode : 8, reward : 20.0\n",
      "episode : 9, reward : 15.0\n",
      "episode : 10, reward : 50.0\n",
      "episode : 11, reward : 10.0\n",
      "episode : 12, reward : 34.0\n",
      "episode : 13, reward : 27.0\n",
      "episode : 14, reward : 24.0\n",
      "episode : 15, reward : 20.0\n",
      "episode : 16, reward : 29.0\n",
      "episode : 17, reward : 13.0\n",
      "episode : 18, reward : 38.0\n",
      "episode : 19, reward : 12.0\n",
      "episode : 20, reward : 12.0\n",
      "episode : 21, reward : 37.0\n",
      "episode : 22, reward : 16.0\n",
      "episode : 23, reward : 20.0\n",
      "episode : 24, reward : 38.0\n",
      "episode : 25, reward : 16.0\n",
      "episode : 26, reward : 32.0\n",
      "episode : 27, reward : 11.0\n",
      "episode : 28, reward : 19.0\n",
      "episode : 29, reward : 58.0\n",
      "episode : 30, reward : 33.0\n",
      "episode : 31, reward : 29.0\n",
      "episode : 32, reward : 16.0\n",
      "episode : 33, reward : 11.0\n",
      "episode : 34, reward : 54.0\n",
      "episode : 35, reward : 74.0\n",
      "episode : 36, reward : 22.0\n",
      "episode : 37, reward : 27.0\n",
      "episode : 38, reward : 29.0\n",
      "episode : 39, reward : 32.0\n",
      "episode : 40, reward : 46.0\n",
      "episode : 41, reward : 36.0\n",
      "episode : 42, reward : 38.0\n",
      "episode : 43, reward : 82.0\n",
      "episode : 44, reward : 64.0\n",
      "episode : 45, reward : 31.0\n",
      "episode : 46, reward : 32.0\n",
      "episode : 47, reward : 45.0\n",
      "episode : 48, reward : 38.0\n",
      "episode : 49, reward : 131.0\n",
      "episode : 50, reward : 53.0\n",
      "episode : 51, reward : 57.0\n",
      "episode : 52, reward : 82.0\n",
      "episode : 53, reward : 67.0\n",
      "episode : 54, reward : 69.0\n",
      "episode : 55, reward : 47.0\n",
      "episode : 56, reward : 79.0\n",
      "episode : 57, reward : 55.0\n",
      "episode : 58, reward : 25.0\n",
      "episode : 59, reward : 59.0\n",
      "episode : 60, reward : 74.0\n",
      "episode : 61, reward : 44.0\n",
      "episode : 62, reward : 93.0\n",
      "episode : 63, reward : 65.0\n",
      "episode : 64, reward : 131.0\n",
      "episode : 65, reward : 175.0\n",
      "episode : 66, reward : 97.0\n",
      "episode : 67, reward : 128.0\n",
      "episode : 68, reward : 200.0\n",
      "episode : 69, reward : 200.0\n",
      "episode : 70, reward : 157.0\n",
      "episode : 71, reward : 17.0\n",
      "episode : 72, reward : 14.0\n",
      "episode : 73, reward : 14.0\n",
      "episode : 74, reward : 13.0\n",
      "episode : 75, reward : 18.0\n",
      "episode : 76, reward : 94.0\n",
      "episode : 77, reward : 200.0\n",
      "episode : 78, reward : 200.0\n",
      "episode : 79, reward : 200.0\n",
      "episode : 80, reward : 200.0\n",
      "episode : 81, reward : 200.0\n",
      "episode : 82, reward : 200.0\n",
      "episode : 83, reward : 200.0\n",
      "episode : 84, reward : 200.0\n",
      "episode : 85, reward : 200.0\n",
      "episode : 86, reward : 200.0\n",
      "episode : 87, reward : 156.0\n",
      "episode : 88, reward : 146.0\n",
      "episode : 89, reward : 145.0\n",
      "episode : 90, reward : 124.0\n",
      "episode : 91, reward : 102.0\n",
      "episode : 92, reward : 98.0\n",
      "episode : 93, reward : 50.0\n",
      "episode : 94, reward : 49.0\n",
      "episode : 95, reward : 50.0\n",
      "episode : 96, reward : 63.0\n",
      "episode : 97, reward : 130.0\n",
      "episode : 98, reward : 177.0\n",
      "episode : 99, reward : 200.0\n",
      "episode : 100, reward : 200.0\n",
      "episode : 101, reward : 200.0\n",
      "episode : 102, reward : 200.0\n",
      "episode : 103, reward : 200.0\n",
      "episode : 104, reward : 200.0\n",
      "episode : 105, reward : 200.0\n",
      "episode : 106, reward : 200.0\n",
      "episode : 107, reward : 200.0\n",
      "episode : 108, reward : 200.0\n",
      "episode : 109, reward : 200.0\n",
      "episode : 110, reward : 200.0\n",
      "episode : 111, reward : 200.0\n",
      "episode : 112, reward : 200.0\n",
      "episode : 113, reward : 200.0\n",
      "episode : 114, reward : 200.0\n",
      "episode : 115, reward : 200.0\n",
      "episode : 116, reward : 200.0\n",
      "episode : 117, reward : 200.0\n",
      "episode : 118, reward : 200.0\n",
      "episode : 119, reward : 200.0\n",
      "episode : 120, reward : 200.0\n",
      "episode : 121, reward : 200.0\n",
      "episode : 122, reward : 200.0\n",
      "episode : 123, reward : 200.0\n",
      "episode : 124, reward : 200.0\n",
      "episode : 125, reward : 200.0\n",
      "episode : 126, reward : 200.0\n",
      "episode : 127, reward : 200.0\n",
      "episode : 128, reward : 200.0\n",
      "episode : 129, reward : 200.0\n",
      "episode : 130, reward : 101.0\n",
      "episode : 131, reward : 168.0\n",
      "episode : 132, reward : 149.0\n",
      "episode : 133, reward : 119.0\n",
      "episode : 134, reward : 37.0\n",
      "episode : 135, reward : 79.0\n",
      "episode : 136, reward : 20.0\n",
      "episode : 137, reward : 54.0\n",
      "episode : 138, reward : 24.0\n",
      "episode : 139, reward : 18.0\n",
      "episode : 140, reward : 17.0\n",
      "episode : 141, reward : 11.0\n",
      "episode : 142, reward : 15.0\n",
      "episode : 143, reward : 123.0\n",
      "episode : 144, reward : 200.0\n",
      "episode : 145, reward : 200.0\n",
      "episode : 146, reward : 200.0\n",
      "episode : 147, reward : 200.0\n",
      "episode : 148, reward : 200.0\n",
      "episode : 149, reward : 200.0\n"
     ]
    }
   ],
   "source": [
    "env_name = \"CartPole-v0\"\n",
    "env = gym.make(env_name)\n",
    "\n",
    "state_dim = env.observation_space.shape[0]\n",
    "action_dim = env.action_space.n\n",
    "\n",
    "agent = DQNAgent(state_dim, action_dim)\n",
    "\n",
    "MAX_EPISODES = 150\n",
    "\n",
    "# Performance metric\n",
    "rewards = []\n",
    "loss_traj = []\n",
    "epsilon_traj = []\n",
    "\n",
    "for e in range(MAX_EPISODES):\n",
    "\n",
    "    state = env.reset()\n",
    "    \n",
    "    episode_reward = 0\n",
    "    episode_loss_sum = 0\n",
    "    episode_len = 0\n",
    "\n",
    "    while True:\n",
    "        episode_len += 1\n",
    "\n",
    "        state = torch.tensor(state, dtype=torch.float32)\n",
    "        action = agent.get_action(state)\n",
    "\n",
    "        next_state, reward, done, info = env.step(action)\n",
    "        \n",
    "        agent.push(state, action, reward/10, next_state, done) # save transition on every steps\n",
    "\n",
    "        state = next_state\n",
    "        \n",
    "        loss = agent.fit()\n",
    "        \n",
    "        episode_reward += reward        \n",
    "        episode_loss_sum += loss\n",
    "            \n",
    "        if done:\n",
    "            rewards.append(episode_reward)\n",
    "            loss_traj.append(episode_loss_sum/episode_len)\n",
    "            epsilon_traj.append(agent.epsilon)\n",
    "            \n",
    "            print(\"episode : {}, reward : {}\".format(e, episode_reward))\n",
    "            break\n",
    "        "
   ]
  },
  {
   "cell_type": "markdown",
   "metadata": {},
   "source": [
    "## Check result"
   ]
  },
  {
   "cell_type": "code",
   "execution_count": 54,
   "metadata": {},
   "outputs": [
    {
     "data": {
      "image/png": "[encoded data removed]",
      "text/plain": [
       "<matplotlib.figure.Figure at 0x2122d3c8cc0>"
      ]
     },
     "metadata": {},
     "output_type": "display_data"
    },
    {
     "data": {
      "image/png": "[encoded data removed]",
      "text/plain": [
       "<matplotlib.figure.Figure at 0x2122d48ca20>"
      ]
     },
     "metadata": {},
     "output_type": "display_data"
    },
    {
     "data": {
      "image/png": "[encoded data removed]",
      "text/plain": [
       "<matplotlib.figure.Figure at 0x2122d2d61d0>"
      ]
     },
     "metadata": {},
     "output_type": "display_data"
    }
   ],
   "source": [
    "import matplotlib.pyplot as plt\n",
    "\n",
    "plt.plot(rewards)\n",
    "plt.title('reward')\n",
    "plt.show()\n",
    "\n",
    "plt.plot(loss_traj)\n",
    "plt.title('loss')\n",
    "plt.show()\n",
    "\n",
    "plt.plot(epsilon_traj)\n",
    "plt.title('epsilon')\n",
    "plt.show()"
   ]
  },
  {
   "cell_type": "code",
   "execution_count": null,
   "metadata": {
    "collapsed": true
   },
   "outputs": [],
   "source": []
  }
 ],
 "metadata": {
  "kernelspec": {
   "display_name": "Python 3",
   "language": "python",
   "name": "python3"
  },
  "language_info": {
   "codemirror_mode": {
    "name": "ipython",
    "version": 3
   },
   "file_extension": ".py",
   "mimetype": "text/x-python",
   "name": "python",
   "nbconvert_exporter": "python",
   "pygments_lexer": "ipython3",
   "version": "3.6.3"
  }
 },
 "nbformat": 4,
 "nbformat_minor": 4
}
