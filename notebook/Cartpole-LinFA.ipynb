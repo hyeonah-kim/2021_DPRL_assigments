{
 "cells": [
  {
   "cell_type": "markdown",
   "metadata": {},
   "source": [
    "### Cartpole-v1 test"
   ]
  },
  {
   "cell_type": "code",
   "execution_count": 1,
   "metadata": {},
   "outputs": [],
   "source": [
    "import gym\n",
    "import numpy as np\n",
    "import matplotlib.pyplot as plt"
   ]
  },
  {
   "cell_type": "markdown",
   "metadata": {},
   "source": [
    "### Angle Reward function"
   ]
  },
  {
   "cell_type": "code",
   "execution_count": 2,
   "metadata": {},
   "outputs": [],
   "source": [
    "def angleReward(obs, r):\n",
    "    ang = np.abs(obs[2])\n",
    "    return np.float32(r + 10*ang)"
   ]
  },
  {
   "cell_type": "code",
   "execution_count": 27,
   "metadata": {},
   "outputs": [
    {
     "name": "stdout",
     "output_type": "stream",
     "text": [
      "0 1 [-0.00861648  0.18302117  0.04585951 -0.28411672]\n",
      "1 0 [-0.00495606 -0.01272384  0.04017718  0.02267007]\n",
      "2 0 [-0.00521054 -0.20839825  0.04063058  0.32775374]\n",
      "3 0 [-0.0093785  -0.40407438  0.04718565  0.6329678 ]\n",
      "4 1 [-0.01745999 -0.20964135  0.05984501  0.35551031]\n",
      "5 1 [-0.02165282 -0.01541908  0.06695521  0.08228237]\n",
      "6 1 [-0.0219612   0.17868237  0.06860086 -0.1885473 ]\n",
      "7 0 [-0.01838755 -0.01735056  0.06482991  0.12496329]\n",
      "8 1 [-0.01873456  0.1767856   0.06732918 -0.14658257]\n",
      "9 1 [-0.01519885  0.370882    0.06439753 -0.41728768]\n",
      "10 0 [-0.00778121  0.17490936  0.05605178 -0.10501825]\n",
      "11 0 [-0.00428302 -0.02096919  0.05395141  0.20480873]\n",
      "12 0 [-0.00470241 -0.2168195   0.05804759  0.51401077]\n",
      "13 1 [-0.0090388  -0.02256106  0.0683278   0.24017029]\n",
      "14 1 [-0.00949002  0.17152167  0.07313121 -0.03020173]\n",
      "15 1 [-0.00605958  0.36552283  0.07252717 -0.29894423]\n",
      "16 0 [0.00125087 0.16944603 0.06654829 0.01570205]\n",
      "17 1 [ 0.00463979  0.3635536   0.06686233 -0.25526406]\n",
      "18 1 [ 0.01191086  0.55766035  0.06175705 -0.52613072]\n",
      "19 1 [ 0.02306407  0.75186141  0.05123443 -0.79873195]\n",
      "20 0 [ 0.0381013   0.55607541  0.03525979 -0.49038198]\n",
      "21 0 [ 0.04922281  0.36047426  0.02545215 -0.18679839]\n",
      "22 1 [ 0.05643229  0.55522298  0.02171619 -0.47134474]\n",
      "23 1 [ 0.06753675  0.75003158  0.01228929 -0.75710467]\n",
      "24 0 [ 0.08253738  0.55474243 -0.0028528  -0.4605801 ]\n",
      "25 0 [ 0.09363223  0.35966092 -0.0120644  -0.16879775]\n",
      "26 0 [ 0.10082545  0.16471371 -0.01544036  0.12005493]\n",
      "27 1 [ 0.10411973  0.36005344 -0.01303926 -0.17745902]\n",
      "28 1 [ 0.11132079  0.55535954 -0.01658844 -0.4742267 ]\n",
      "29 0 [ 0.12242799  0.36047573 -0.02607297 -0.18681799]\n",
      "30 0 [ 0.1296375   0.16573633 -0.02980933  0.09752724]\n",
      "31 0 [ 0.13295223 -0.02894598 -0.02785879  0.38065834]\n",
      "32 1 [ 0.13237331  0.16656026 -0.02024562  0.07932334]\n",
      "33 1 [ 0.13570451  0.3619665  -0.01865916 -0.21967776]\n",
      "34 1 [ 0.14294384  0.55735013 -0.02305271 -0.51818766]\n",
      "35 1 [ 0.15409084  0.75278894 -0.03341646 -0.81804488]\n",
      "36 1 [ 0.16914662  0.94835199 -0.04977736 -1.1210483 ]\n",
      "37 0 [ 0.18811366  0.75391695 -0.07219833 -0.8443855 ]\n",
      "38 0 [ 0.203192    0.55985055 -0.08908604 -0.57525213]\n",
      "39 0 [ 0.21438901  0.36608298 -0.10059108 -0.31191002]\n",
      "40 1 [ 0.22171067  0.56248339 -0.10682928 -0.63454535]\n",
      "41 1 [ 0.23296034  0.7589205  -0.11952019 -0.95886934]\n",
      "42 0 [ 0.24813875  0.56559052 -0.13869757 -0.70599855]\n",
      "43 1 [ 0.25945056  0.7623338  -0.15281755 -1.03892592]\n",
      "44 1 [ 0.27469724  0.95911947 -0.17359606 -1.37541814]\n",
      "45 1 [ 0.29387963  1.15593289 -0.20110443 -1.71698241]\n",
      "46 0 [ 0.31699828  0.96360494 -0.23544408 -1.49303156]\n"
     ]
    }
   ],
   "source": [
    "env = gym.make(\"CartPole-v1\")\n",
    "obs = env.reset()    \n",
    "for i in range(1000):\n",
    "    env.render()\n",
    "    action = env.action_space.sample() # random action\n",
    "    obs, reward, done, info = env.step(action)\n",
    "    reward = angleReward(obs, reward)\n",
    "#     print(i, action, obs)\n",
    "    if done:\n",
    "        break\n",
    "        obs = env.reset()\n",
    "# env.close()"
   ]
  },
  {
   "cell_type": "markdown",
   "metadata": {},
   "source": [
    "### agent with simple policy"
   ]
  },
  {
   "cell_type": "code",
   "execution_count": null,
   "metadata": {},
   "outputs": [],
   "source": [
    "def simpleAgent(env, policy, maxStep=1000):\n",
    "    obs = env.reset()\n",
    "    done = False\n",
    "    ret = 0\n",
    "    nStep = 0\n",
    "    while not done:\n",
    "        env.render()\n",
    "        action = policy(obs)\n",
    "        obs, r, done, info = env.step(action)\n",
    "        r = angleReward(obs, r) \n",
    "        ret += r\n",
    "        nStep += 1\n",
    "        if nStep >= maxStep: break\n",
    "    print (f\"# of steps = {nStep}, Score = {ret}\")\n",
    "    return nStep, ret"
   ]
  },
  {
   "cell_type": "markdown",
   "metadata": {},
   "source": [
    "### Random policy"
   ]
  },
  {
   "cell_type": "code",
   "execution_count": null,
   "metadata": {},
   "outputs": [],
   "source": [
    "def policy_random(obs):\n",
    "    if np.random.random() < 0.5:\n",
    "        return 0  # left\n",
    "    else:\n",
    "        return 1  # right\n",
    "    \n",
    "env = gym.make('CartPole-v1').unwrapped\n",
    "simpleAgent(env, policy_random)\n",
    "env.close()"
   ]
  },
  {
   "cell_type": "markdown",
   "metadata": {},
   "source": [
    "### Heuristic policy using angle only"
   ]
  },
  {
   "cell_type": "code",
   "execution_count": null,
   "metadata": {},
   "outputs": [],
   "source": [
    "def policy_angle(obs):\n",
    "    ang = obs[2]\n",
    "    if ang < 0:\n",
    "        return 0  # left\n",
    "    else:\n",
    "        return 1  # right\n",
    "    \n",
    "env = gym.make('CartPole-v1').unwrapped\n",
    "simpleAgent(env, policy_angle)\n",
    "env.close()"
   ]
  },
  {
   "cell_type": "markdown",
   "metadata": {},
   "source": [
    "### Heuristic policy using angle and position"
   ]
  },
  {
   "cell_type": "code",
   "execution_count": null,
   "metadata": {},
   "outputs": [],
   "source": [
    "def policy_angle_pos(obs):\n",
    "    pos = obs[0]\n",
    "    ang = obs[2]\n",
    "    if 10*ang - pos < 0:\n",
    "        return 0  # left\n",
    "    else:\n",
    "        return 1  # right\n",
    "    \n",
    "env = gym.make('CartPole-v1').unwrapped\n",
    "simpleAgent(env, policy_angle_pos)\n",
    "env.close()"
   ]
  },
  {
   "cell_type": "markdown",
   "metadata": {},
   "source": [
    "### Heuristic policy using angle, position, and velocity"
   ]
  },
  {
   "cell_type": "code",
   "execution_count": null,
   "metadata": {},
   "outputs": [],
   "source": [
    "def policy_angle_pos_vel(obs):\n",
    "    pos = obs[0]\n",
    "    vel = obs[1]\n",
    "    ang = obs[2]\n",
    "    if 10*ang + pos - vel < 0:\n",
    "        return 0  # left\n",
    "    else:\n",
    "        return 1  # right\n",
    "    \n",
    "env = gym.make('CartPole-v1').unwrapped\n",
    "simpleAgent(env, policy_angle_pos_vel)\n",
    "env.close()"
   ]
  },
  {
   "cell_type": "code",
   "execution_count": null,
   "metadata": {},
   "outputs": [],
   "source": [
    "env = gym.make('CartPole-v1').unwrapped\n",
    "simpleAgent(env, policy_random)\n",
    "simpleAgent(env, policy_angle)\n",
    "simpleAgent(env, policy_angle_pos)\n",
    "simpleAgent(env, policy_angle_pos_vel)\n",
    "env.close()"
   ]
  },
  {
   "cell_type": "code",
   "execution_count": null,
   "metadata": {},
   "outputs": [],
   "source": [
    "def policy_from_CEM(obs):\n",
    "    # plain reward\n",
    "    # w = np.array([-0.00178353, 0.3374739, 0.72456414, 0.45043665]) \n",
    "    # angle reward w/ maxStep = 500\n",
    "    # w = np.array([0.06272953, 0.77593657, 1.61835616, 5.55401569]) \n",
    "    # angle reward w/ maxStep = 2000\n",
    "    w = np.array([0.04187407, 1.66633927, 1.48482396, 4.08942878])\n",
    "    \n",
    "    z = np.dot(w, obs)\n",
    "    if z < 0:\n",
    "        return 0\n",
    "    else:\n",
    "        return 1\n",
    "    \n",
    "env = gym.make('CartPole-v1').unwrapped\n",
    "simpleAgent(env, policy_from_CEM, maxStep=2000)\n",
    "env.close()"
   ]
  },
  {
   "cell_type": "code",
   "execution_count": 28,
   "metadata": {},
   "outputs": [],
   "source": [
    "env.close()  # to close video window"
   ]
  },
  {
   "cell_type": "code",
   "execution_count": 9,
   "metadata": {},
   "outputs": [],
   "source": [
    "class AgentBase:\n",
    "    def __init__(self, env):\n",
    "        self.env = env\n",
    "        self.eps = 0.1\n",
    "        self.alpha = 0.01\n",
    "        self.dimState = env.observation_space.shape[0]\n",
    "        self.nummAction = env.action_space.n\n",
    "        self.gamma = 0.999\n",
    "\n",
    "    def getStateRep(self, obs):\n",
    "        return obs\n",
    "\n",
    "    def getQs(self, s):\n",
    "        return self.Q[s]\n",
    "\n",
    "    def getQa(self, s, a):\n",
    "        return self.Q[s,a]\n",
    "    \n",
    "    def getVs(self, s, done=False):\n",
    "        if done:\n",
    "            return 0\n",
    "        qs = self.getQs(s)\n",
    "        return np.max(qs)\n",
    "\n",
    "    def piGreedy(self, state):\n",
    "        q = self.getQs(state)\n",
    "        a = q.argmax()\n",
    "        return a\n",
    "\n",
    "    def getAction(self, state):  # eps-greedy policy\n",
    "        # eps-greedy\n",
    "        if np.random.random() < self.eps:\n",
    "            a = np.random.choice(self.numAction)\n",
    "            self.eps *= 0.99\n",
    "            # print (f\"exploration move, eps={self.eps}\")\n",
    "        else:\n",
    "            a = self.piGreedy(state)\n",
    "        return a\n",
    "    \n",
    "    def saveParam(self):\n",
    "        pass\n",
    "    \n",
    "    def loadParam(self):\n",
    "        pass\n",
    "\n",
    "    def runEpisode1(self, maxStep=1000, render=False, stepCB=None, episodeCB=None):\n",
    "        obs = self.env.reset()\n",
    "        s = self.getStateRep(obs)\n",
    "        done = False\n",
    "        ret = 0\n",
    "        nStep = 0\n",
    "        df = 1\n",
    "        S = [s]\n",
    "        A = []\n",
    "        R = []\n",
    "        while not done:\n",
    "            if render:\n",
    "                self.env.render()\n",
    "            a = self.getAction(s)\n",
    "            obs, r, done, info = self.env.step(a)\n",
    "            r = angleReward(obs, r)\n",
    "            ret += df * r\n",
    "            df *= self.gamma\n",
    "            sp = self.getStateRep(obs)\n",
    "            A.append(a)\n",
    "            R.append(r)\n",
    "            S.append(sp)\n",
    "            if stepCB:\n",
    "                stepCB(s,a,r,sp,done)\n",
    "            s = sp\n",
    "            nStep += 1\n",
    "            if nStep >= maxStep:  # 500 for v1\n",
    "                break\n",
    "        self.nStep = nStep\n",
    "        if not done:\n",
    "            ret += df*self.getVs(s)\n",
    "        if episodeCB:\n",
    "            episodeCB(S,A,R,done)\n",
    "        return ret\n",
    "\n",
    "    def runTrain(self, nEpisode=1000, maxStep=1000, stepCB=None, episodeCB=None):\n",
    "        retHist = []\n",
    "        retMax = 0\n",
    "        for i in range(nEpisode):\n",
    "            ret = self.runEpisode1(maxStep=maxStep, stepCB=stepCB, episodeCB=episodeCB)\n",
    "#             print(f\"Training episode {i}, return = {ret} in {self.nStep} steps\")\n",
    "            retHist.append(ret)\n",
    "            if ret > retMax:\n",
    "                retMax = ret\n",
    "                self.saveParam()\n",
    "        \n",
    "        self.loadParam()\n",
    "        plt.plot(retHist)\n",
    "        plt.show()\n",
    "\n",
    "    def runTest(self, nEpisode=1, maxStep=1000):\n",
    "        eps = self.eps\n",
    "        self.eps = 0\n",
    "        for i in range(nEpisode):\n",
    "            ret = self.runEpisode1(maxStep=maxStep, render=True)\n",
    "            print(f\"Test episode {i}, return = {ret} in {self.nStep} steps\")\n",
    "        self.eps = eps"
   ]
  },
  {
   "cell_type": "code",
   "execution_count": 10,
   "metadata": {},
   "outputs": [],
   "source": [
    "class AgentLinVFA1(AgentBase):\n",
    "    def __init__(self, env):\n",
    "        super().__init__(env)\n",
    "        self.w = np.zeros((self.numAction, self.dimState))\n",
    "\n",
    "    def saveParam(self):\n",
    "        self.wBest = self.w.copy()\n",
    "    \n",
    "    def loadParam(self):\n",
    "        self.w = self.wBest\n",
    "\n",
    "    def printParam(self):\n",
    "        print (\"w = \", self.w)\n",
    "\n",
    "    def getQs(self, s):\n",
    "        q = np.dot(self.w, s)\n",
    "        return q\n",
    "\n",
    "    def getQa(self, s, a):\n",
    "        q = np.dot(self.w[a], s)\n",
    "        return q\n",
    "     \n",
    "    def update(self, target, s, a):\n",
    "        qa = self.getQa(s,a)\n",
    "        delta = (target - qa) * self.alpha\n",
    "        self.w[a] += delta * s\n",
    "        \n",
    "    def stepTD(self, s, a, r, sp, done):\n",
    "        maxq = self.getVs(sp, done)\n",
    "        target = r + self.gamma*maxq\n",
    "        self.update(target)\n",
    "        \n",
    "    def stepTD(self, s, a, r, sp, done):\n",
    "        if done: \n",
    "            maxq = 0\n",
    "        else:\n",
    "            maxq = self.getVs(sp)\n",
    "        target = r + self.gamma*maxq\n",
    "        self.update(target, s, a)"
   ]
  },
  {
   "cell_type": "code",
   "execution_count": 11,
   "metadata": {},
   "outputs": [],
   "source": [
    "class AgentLinVFA(AgentBase):\n",
    "    def __init__(self, env):\n",
    "        super().__init__(env)\n",
    "        self.w0 = 0.0\n",
    "        self.ws = np.zeros(self.dimState)\n",
    "        self.wa = np.zeros(self.dimState)\n",
    "\n",
    "    def saveParam(self):\n",
    "        self.wBest = [self.w0, self.ws.copy(), self.wa.copy()]\n",
    "    \n",
    "    def loadParam(self):\n",
    "        [self.w0, self.ws, self.wa] = self.wBest\n",
    "\n",
    "    def printParam(self):\n",
    "        print (\"w0 = \", self.w0)\n",
    "        print (\"ws = \", self.ws)\n",
    "        print (\"wa = \", self.wa)\n",
    "\n",
    "    def getQs(self, s):\n",
    "        qs = self.w0 + np.dot(self.ws, s)\n",
    "        qa = 0.5*np.dot(self.wa, s)\n",
    "        return np.array([qs-qa,qs+qa])\n",
    "\n",
    "    def getQa(self, s, a):\n",
    "        qs = self.w0 + np.dot(self.ws, s)\n",
    "        qa = 0.5*np.dot(self.wa, s)\n",
    "        if a == 0:\n",
    "            return qs - qa\n",
    "        else:\n",
    "            return qs + qa\n",
    "    \n",
    "    def update(self, target, s, a):\n",
    "        qa = self.getQa(s,a)\n",
    "        delta = (target - qa) * self.alpha\n",
    "        self.w0 += delta\n",
    "        self.ws += delta*s\n",
    "        self.wa += delta*(a-0.5)*s\n",
    "        \n",
    "    def stepTD(self, s, a, r, sp, done):\n",
    "        maxq = self.getVs(sp, done)\n",
    "        target = r + self.gamma*maxq\n",
    "        self.update(target, s, a)\n",
    "\n",
    "    def episodeMC(self, S, A, R, done):\n",
    "        T = len(R)\n",
    "        if done:\n",
    "            G = 0\n",
    "        else:\n",
    "            G = self.getVs(S[-1])\n",
    "        for t in range(T-1, -1, -1):\n",
    "            G = self.gamma*G + R[t]\n",
    "            self.update(G, S[t], A[t])\n",
    "            "
   ]
  },
  {
   "cell_type": "code",
   "execution_count": 24,
   "metadata": {},
   "outputs": [
    {
     "data": {
      "image/png": "[encoded data removed]",
      "text/plain": [
       "<Figure size 432x288 with 1 Axes>"
      ]
     },
     "metadata": {
      "needs_background": "light"
     },
     "output_type": "display_data"
    },
    {
     "name": "stdout",
     "output_type": "stream",
     "text": [
      "w0 =  137.43492332063465\n",
      "ws =  [ 9.1110601  -0.53504068 -0.78563435  3.9395677 ]\n",
      "wa =  [-2.45669053 -9.66559684  0.25893472  6.96656827]\n",
      "Test episode 0, return = 79.2097179055897 in 42 steps\n"
     ]
    }
   ],
   "source": [
    "env = gym.make('CartPole-v1').unwrapped\n",
    "agent = AgentLinVFA(env)\n",
    "agent.alpha = 0.01\n",
    "agent.runTrain(episodeCB=agent.episodeMC, nEpisode=1000)\n",
    "# agent.runTrain(stepCB=agent.stepTD, nEpisode=1000)\n",
    "agent.printParam()\n",
    "agent.runTest()\n",
    "env.close()"
   ]
  },
  {
   "cell_type": "code",
   "execution_count": 21,
   "metadata": {},
   "outputs": [
    {
     "name": "stdout",
     "output_type": "stream",
     "text": [
      "Test episode 0, return = 151.30036394462095 in 105 steps\n"
     ]
    }
   ],
   "source": [
    "agent.runTest(nEpisode=1)\n",
    "env.close()"
   ]
  },
  {
   "cell_type": "code",
   "execution_count": 5,
   "metadata": {},
   "outputs": [
    {
     "data": {
      "text/plain": [
       "array([1, 2, 3])"
      ]
     },
     "execution_count": 5,
     "metadata": {},
     "output_type": "execute_result"
    }
   ],
   "source": [
    "np.concatenate(([1],[2,3]))"
   ]
  },
  {
   "cell_type": "code",
   "execution_count": null,
   "metadata": {},
   "outputs": [],
   "source": []
  }
 ],
 "metadata": {
  "kernelspec": {
   "display_name": "Python 3",
   "language": "python",
   "name": "python3"
  },
  "language_info": {
   "codemirror_mode": {
    "name": "ipython",
    "version": 3
   },
   "file_extension": ".py",
   "mimetype": "text/x-python",
   "name": "python",
   "nbconvert_exporter": "python",
   "pygments_lexer": "ipython3",
   "version": "3.8.3"
  }
 },
 "nbformat": 4,
 "nbformat_minor": 4
}
